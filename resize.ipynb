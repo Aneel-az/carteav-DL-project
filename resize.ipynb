{
  "nbformat": 4,
  "nbformat_minor": 0,
  "metadata": {
    "colab": {
      "name": "resize.ipynb",
      "provenance": [],
      "mount_file_id": "1mCrmpWhm4MaqwXpYWT97cJRqwKSLtijO",
      "authorship_tag": "ABX9TyPATAGPzCKRn2KqzAWtDYp3",
      "include_colab_link": true
    },
    "kernelspec": {
      "name": "python3",
      "display_name": "Python 3"
    },
    "language_info": {
      "name": "python"
    }
  },
  "cells": [
    {
      "cell_type": "markdown",
      "metadata": {
        "id": "view-in-github",
        "colab_type": "text"
      },
      "source": [
        "<a href=\"https://colab.research.google.com/github/aneel10/carteav-DL-project/blob/master/resize.ipynb\" target=\"_parent\"><img src=\"https://colab.research.google.com/assets/colab-badge.svg\" alt=\"Open In Colab\"/></a>"
      ]
    },
    {
      "cell_type": "markdown",
      "source": [
        "# Before "
      ],
      "metadata": {
        "id": "9D7XaRSliOY9"
      }
    },
    {
      "cell_type": "code",
      "source": [
        "! mkdir /content/drive/MyDrive/dl1/carteav1/yamaha_seg\n",
        "!tar -xvzf /content/drive/MyDrive/dl1/carteav1/yamaha_seg.tar.gz -C /content/drive/MyDrive/dl1/carteav1/yamaha_seg\n",
        "!mkdir /content/drive/MyDrive/dl1/carteav1/resized"
      ],
      "metadata": {
        "id": "_NPYbphH_7hA"
      },
      "execution_count": null,
      "outputs": []
    },
    {
      "cell_type": "markdown",
      "source": [
        "# Code"
      ],
      "metadata": {
        "id": "B794pnnvifJD"
      }
    },
    {
      "cell_type": "code",
      "source": [
        "def _get_new_size(width, height, fixed_width, fixed_height):\n",
        "  width_ratio = fixed_width / width\n",
        "  height_ratio = fixed_height / height\n",
        "\n",
        "  ratio = min(width_ratio, height_ratio)\n",
        "  new_size = (int(width * ratio), int(height * ratio))\n",
        "\n",
        "  return new_size\n",
        "  "
      ],
      "metadata": {
        "id": "G0uT08q8odwq"
      },
      "execution_count": null,
      "outputs": []
    },
    {
      "cell_type": "code",
      "source": [
        "import os\n",
        "\n",
        "from PIL import Image\n",
        "\n",
        "def resize(images_dir_path, image_width, image_height, keep_aspect_ratio=False):\n",
        "  resized_path = \"/content/drive/MyDrive/dl1/carteav1/resized\"\n",
        "  images_dirs = [x[0] for x in os.walk(images_dir_path) if \"iid\" in x[0]]\n",
        "\n",
        "  if keep_aspect_ratio:\n",
        "    width, height = Image.open(f\"{images_dirs[0]}/rgb.jpg\").size\n",
        "    ratio_size = _get_new_size(width, height, image_width, image_height)\n",
        "\n",
        "  for image_dir in images_dirs:\n",
        "    image = Image.open(f\"{image_dir}/rgb.jpg\")\n",
        "    labels = Image.open(f\"{image_dir}/labels.png\").convert('RGBA')\n",
        "\n",
        "    if keep_aspect_ratio:\n",
        "      new_image_sized = image.resize(ratio_size)\n",
        "      new_image = Image.new(new_image_sized.mode, (image_width, image_height), (0,0,0))\n",
        "      new_image.paste(new_image_sized, (0,0))\n",
        "      new_labels_sized = labels.resize(ratio_size)\n",
        "      new_labels = Image.new(new_labels_sized.mode, (image_width, image_height), (0,0,0))\n",
        "      new_labels.paste(new_labels_sized, (0,0))\n",
        "    else:\n",
        "      new_image = image.resize((image_width, image_height))\n",
        "      new_labels = labels.resize((image_width, image_height))\n",
        "\n",
        "    resized_folder = image_dir.split(\"/\")[-1]\n",
        "    current_resized_path = f\"{resized_path}/{resized_folder}\"\n",
        "    os.mkdir(current_resized_path)\n",
        "    new_image.save(f'{current_resized_path}/resized_rgb.jpg')\n",
        "    new_labels.save(f'{current_resized_path}/resized_labels.png')\n"
      ],
      "metadata": {
        "id": "Q_K-Mi_3AW_T"
      },
      "execution_count": null,
      "outputs": []
    },
    {
      "cell_type": "markdown",
      "source": [
        "## example that keeps the aspect ratio"
      ],
      "metadata": {
        "id": "SmWclIvXi7jH"
      }
    },
    {
      "cell_type": "code",
      "source": [
        "resize(\"/content/drive/MyDrive/dl1/carteav1/yamaha_seg/yamaha_v0/train\", 512, 136, True)"
      ],
      "metadata": {
        "id": "Htju2egNwkZq"
      },
      "execution_count": null,
      "outputs": []
    }
  ]
}